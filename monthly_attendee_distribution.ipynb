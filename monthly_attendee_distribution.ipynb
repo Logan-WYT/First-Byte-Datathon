{
  "cells": [
    {
      "cell_type": "raw",
      "metadata": {
        "vscode": {
          "languageId": "raw"
        }
      },
      "source": [
        "<strong><h2>Monthly Attendee Distribution Based on Food Revenue Proportions</strong></h2>\n"
      ]
    },
    {
      "cell_type": "code",
      "execution_count": 1,
      "metadata": {},
      "outputs": [],
      "source": [
        "# Load libraries\n",
        "import pandas as pd\n",
        "import altair as alt\n",
        "import numpy as np\n"
      ]
    },
    {
      "cell_type": "code",
      "execution_count": 2,
      "metadata": {},
      "outputs": [
        {
          "name": "stdout",
          "output_type": "stream",
          "text": [
            "Total Attendees (from Fanbase Engagement): 399,799\n",
            "Number of members in database: 70,000\n"
          ]
        }
      ],
      "source": [
        "# Step 1: Calculate total attendees from fanbase engagement data\n",
        "fanbase = pd.read_csv(\"Byte_Datasets/clean_fanbase.csv\")\n",
        "\n",
        "# Sum all games attended across all members\n",
        "total_attendees = fanbase[\"Games_Attended\"].sum()\n",
        "\n",
        "print(f\"Total Attendees (from Fanbase Engagement): {total_attendees:,}\")\n",
        "print(f\"Number of members in database: {len(fanbase):,}\")\n"
      ]
    },
    {
      "cell_type": "code",
      "execution_count": 3,
      "metadata": {},
      "outputs": [
        {
          "name": "stdout",
          "output_type": "stream",
          "text": [
            "\n",
            "Monthly Food Revenue:\n",
            "    Month Source  Revenue\n",
            "48      1   Food   443982\n",
            "49      2   Food  2777643\n",
            "50      3   Food  2596206\n",
            "51      4   Food  2227200\n",
            "52      5   Food  1723476\n",
            "53      6   Food  1208020\n",
            "54      7   Food  1469214\n",
            "55      8   Food  2357364\n",
            "56      9   Food  2001792\n",
            "57     10   Food  2844126\n",
            "58     11   Food   299296\n",
            "59     12   Food        0\n"
          ]
        }
      ],
      "source": [
        "# Step 2: Extract monthly food revenue from stadium operations\n",
        "stadium = pd.read_csv(\"Byte_Datasets/clean_stadium.csv\")\n",
        "\n",
        "# Filter for Food revenue only\n",
        "food_revenue = stadium[stadium[\"Source\"] == \"Food\"].copy()\n",
        "food_revenue = food_revenue.sort_values(\"Month\")\n",
        "\n",
        "print(\"\\nMonthly Food Revenue:\")\n",
        "print(food_revenue)\n"
      ]
    },
    {
      "cell_type": "code",
      "execution_count": 4,
      "metadata": {},
      "outputs": [
        {
          "name": "stdout",
          "output_type": "stream",
          "text": [
            "\n",
            "Total Food Revenue: $19,948,319.00\n",
            "\n",
            "Monthly Attendee Distribution:\n",
            "\n",
            "    Month  Revenue  Revenue_Proportion  Estimated_Attendees\n",
            "48      1   443982            0.022257                 8898\n",
            "49      2  2777643            0.139242                55669\n",
            "50      3  2596206            0.130147                52032\n",
            "51      4  2227200            0.111649                44637\n",
            "52      5  1723476            0.086397                34541\n",
            "53      6  1208020            0.060557                24211\n",
            "54      7  1469214            0.073651                29446\n",
            "55      8  2357364            0.118174                47246\n",
            "56      9  2001792            0.100349                40119\n",
            "57     10  2844126            0.142575                57001\n",
            "58     11   299296            0.015004                 5998\n",
            "59     12        0            0.000000                    0\n"
          ]
        }
      ],
      "source": [
        "# Step 3: Calculate proportional distribution of attendees\n",
        "# Total food revenue across all months\n",
        "total_food_revenue = food_revenue[\"Revenue\"].sum()\n",
        "\n",
        "# Calculate proportion of total food revenue for each month\n",
        "food_revenue[\"Revenue_Proportion\"] = food_revenue[\"Revenue\"] / total_food_revenue\n",
        "\n",
        "# Distribute total attendees proportionally based on food revenue\n",
        "food_revenue[\"Estimated_Attendees\"] = (food_revenue[\"Revenue_Proportion\"] * total_attendees).round().astype(int)\n",
        "\n",
        "# Display the distribution\n",
        "print(f\"\\nTotal Food Revenue: ${total_food_revenue:,.2f}\")\n",
        "print(f\"\\nMonthly Attendee Distribution:\\n\")\n",
        "print(food_revenue[[\"Month\", \"Revenue\", \"Revenue_Proportion\", \"Estimated_Attendees\"]])\n"
      ]
    },
    {
      "cell_type": "code",
      "execution_count": 5,
      "metadata": {},
      "outputs": [
        {
          "name": "stdout",
          "output_type": "stream",
          "text": [
            "\n",
            "Summary Statistics:\n",
            "Average attendees per month: 33,316\n",
            "Peak attendance month: 10 (57,001 attendees)\n",
            "Lowest attendance month: 12 (0 attendees)\n",
            "\n",
            "Verification - Total distributed: 399,798 (should match 399,799)\n"
          ]
        }
      ],
      "source": [
        "# Summary statistics\n",
        "print(\"\\nSummary Statistics:\")\n",
        "print(f\"Average attendees per month: {food_revenue['Estimated_Attendees'].mean():,.0f}\")\n",
        "print(f\"Peak attendance month: {food_revenue.loc[food_revenue['Estimated_Attendees'].idxmax(), 'Month']} ({food_revenue['Estimated_Attendees'].max():,} attendees)\")\n",
        "print(f\"Lowest attendance month: {food_revenue.loc[food_revenue['Estimated_Attendees'].idxmin(), 'Month']} ({food_revenue['Estimated_Attendees'].min():,} attendees)\")\n",
        "print(f\"\\nVerification - Total distributed: {food_revenue['Estimated_Attendees'].sum():,} (should match {total_attendees:,})\")\n"
      ]
    },
    {
      "cell_type": "code",
      "execution_count": 6,
      "metadata": {},
      "outputs": [
        {
          "data": {
            "text/html": [
              "\n",
              "<style>\n",
              "  #altair-viz-9cfb0ea93dc24acbba35c34ec899d7c9.vega-embed {\n",
              "    width: 100%;\n",
              "    display: flex;\n",
              "  }\n",
              "\n",
              "  #altair-viz-9cfb0ea93dc24acbba35c34ec899d7c9.vega-embed details,\n",
              "  #altair-viz-9cfb0ea93dc24acbba35c34ec899d7c9.vega-embed details summary {\n",
              "    position: relative;\n",
              "  }\n",
              "</style>\n",
              "<div id=\"altair-viz-9cfb0ea93dc24acbba35c34ec899d7c9\"></div>\n",
              "<script type=\"text/javascript\">\n",
              "  var VEGA_DEBUG = (typeof VEGA_DEBUG == \"undefined\") ? {} : VEGA_DEBUG;\n",
              "  (function(spec, embedOpt){\n",
              "    let outputDiv = document.currentScript.previousElementSibling;\n",
              "    if (outputDiv.id !== \"altair-viz-9cfb0ea93dc24acbba35c34ec899d7c9\") {\n",
              "      outputDiv = document.getElementById(\"altair-viz-9cfb0ea93dc24acbba35c34ec899d7c9\");\n",
              "    }\n",
              "\n",
              "    const paths = {\n",
              "      \"vega\": \"https://cdn.jsdelivr.net/npm/vega@5?noext\",\n",
              "      \"vega-lib\": \"https://cdn.jsdelivr.net/npm/vega-lib?noext\",\n",
              "      \"vega-lite\": \"https://cdn.jsdelivr.net/npm/vega-lite@5.20.1?noext\",\n",
              "      \"vega-embed\": \"https://cdn.jsdelivr.net/npm/vega-embed@6?noext\",\n",
              "    };\n",
              "\n",
              "    function maybeLoadScript(lib, version) {\n",
              "      var key = `${lib.replace(\"-\", \"\")}_version`;\n",
              "      return (VEGA_DEBUG[key] == version) ?\n",
              "        Promise.resolve(paths[lib]) :\n",
              "        new Promise(function(resolve, reject) {\n",
              "          var s = document.createElement('script');\n",
              "          document.getElementsByTagName(\"head\")[0].appendChild(s);\n",
              "          s.async = true;\n",
              "          s.onload = () => {\n",
              "            VEGA_DEBUG[key] = version;\n",
              "            return resolve(paths[lib]);\n",
              "          };\n",
              "          s.onerror = () => reject(`Error loading script: ${paths[lib]}`);\n",
              "          s.src = paths[lib];\n",
              "        });\n",
              "    }\n",
              "\n",
              "    function showError(err) {\n",
              "      outputDiv.innerHTML = `<div class=\"error\" style=\"color:red;\">${err}</div>`;\n",
              "      throw err;\n",
              "    }\n",
              "\n",
              "    function displayChart(vegaEmbed) {\n",
              "      vegaEmbed(outputDiv, spec, embedOpt)\n",
              "        .catch(err => showError(`Javascript Error: ${err.message}<br>This usually means there's a typo in your chart specification. See the javascript console for the full traceback.`));\n",
              "    }\n",
              "\n",
              "    if(typeof define === \"function\" && define.amd) {\n",
              "      requirejs.config({paths});\n",
              "      let deps = [\"vega-embed\"];\n",
              "      require(deps, displayChart, err => showError(`Error loading script: ${err.message}`));\n",
              "    } else {\n",
              "      maybeLoadScript(\"vega\", \"5\")\n",
              "        .then(() => maybeLoadScript(\"vega-lite\", \"5.20.1\"))\n",
              "        .then(() => maybeLoadScript(\"vega-embed\", \"6\"))\n",
              "        .catch(showError)\n",
              "        .then(() => displayChart(vegaEmbed));\n",
              "    }\n",
              "  })({\"config\": {\"view\": {\"continuousWidth\": 300, \"continuousHeight\": 300}}, \"layer\": [{\"mark\": {\"type\": \"bar\", \"color\": \"#3498db\"}, \"encoding\": {\"tooltip\": [{\"field\": \"Month_Label\", \"title\": \"Month\", \"type\": \"nominal\"}, {\"field\": \"Estimated_Attendees\", \"format\": \",\", \"title\": \"Attendees\", \"type\": \"quantitative\"}, {\"field\": \"Revenue\", \"format\": \"$,.0f\", \"title\": \"Food Revenue\", \"type\": \"quantitative\"}, {\"field\": \"Revenue_Proportion\", \"format\": \".1%\", \"title\": \"Revenue %\", \"type\": \"quantitative\"}], \"x\": {\"axis\": {\"labelAngle\": 0}, \"field\": \"Month\", \"title\": \"Month\", \"type\": \"ordinal\"}, \"y\": {\"field\": \"Estimated_Attendees\", \"title\": \"Estimated Attendees\", \"type\": \"quantitative\"}}, \"title\": \"Monthly Attendee Distribution (Based on Food Revenue Proportions)\"}, {\"mark\": {\"type\": \"text\", \"align\": \"center\", \"baseline\": \"bottom\", \"dy\": -5, \"fontSize\": 11}, \"encoding\": {\"text\": {\"field\": \"Estimated_Attendees\", \"format\": \",\", \"type\": \"quantitative\"}, \"tooltip\": [{\"field\": \"Month_Label\", \"title\": \"Month\", \"type\": \"nominal\"}, {\"field\": \"Estimated_Attendees\", \"format\": \",\", \"title\": \"Attendees\", \"type\": \"quantitative\"}, {\"field\": \"Revenue\", \"format\": \"$,.0f\", \"title\": \"Food Revenue\", \"type\": \"quantitative\"}, {\"field\": \"Revenue_Proportion\", \"format\": \".1%\", \"title\": \"Revenue %\", \"type\": \"quantitative\"}], \"x\": {\"axis\": {\"labelAngle\": 0}, \"field\": \"Month\", \"title\": \"Month\", \"type\": \"ordinal\"}, \"y\": {\"field\": \"Estimated_Attendees\", \"title\": \"Estimated Attendees\", \"type\": \"quantitative\"}}, \"title\": \"Monthly Attendee Distribution (Based on Food Revenue Proportions)\"}], \"data\": {\"name\": \"data-9a5bf673b1cfa2c9f8a115718859922d\"}, \"height\": 400, \"width\": 700, \"$schema\": \"https://vega.github.io/schema/vega-lite/v5.20.1.json\", \"datasets\": {\"data-9a5bf673b1cfa2c9f8a115718859922d\": [{\"Month\": 1, \"Source\": \"Food\", \"Revenue\": 443982, \"Revenue_Proportion\": 0.022256612198752187, \"Estimated_Attendees\": 8898, \"Month_Label\": \"Jan\"}, {\"Month\": 2, \"Source\": \"Food\", \"Revenue\": 2777643, \"Revenue_Proportion\": 0.1392419581820403, \"Estimated_Attendees\": 55669, \"Month_Label\": \"Feb\"}, {\"Month\": 3, \"Source\": \"Food\", \"Revenue\": 2596206, \"Revenue_Proportion\": 0.13014660533551725, \"Estimated_Attendees\": 52032, \"Month_Label\": \"Mar\"}, {\"Month\": 4, \"Source\": \"Food\", \"Revenue\": 2227200, \"Revenue_Proportion\": 0.11164850532017259, \"Estimated_Attendees\": 44637, \"Month_Label\": \"Apr\"}, {\"Month\": 5, \"Source\": \"Food\", \"Revenue\": 1723476, \"Revenue_Proportion\": 0.08639705430818506, \"Estimated_Attendees\": 34541, \"Month_Label\": \"May\"}, {\"Month\": 6, \"Source\": \"Food\", \"Revenue\": 1208020, \"Revenue_Proportion\": 0.06055748356540719, \"Estimated_Attendees\": 24211, \"Month_Label\": \"Jun\"}, {\"Month\": 7, \"Source\": \"Food\", \"Revenue\": 1469214, \"Revenue_Proportion\": 0.07365101791283767, \"Estimated_Attendees\": 29446, \"Month_Label\": \"Jul\"}, {\"Month\": 8, \"Source\": \"Food\", \"Revenue\": 2357364, \"Revenue_Proportion\": 0.11817356640426695, \"Estimated_Attendees\": 47246, \"Month_Label\": \"Aug\"}, {\"Month\": 9, \"Source\": \"Food\", \"Revenue\": 2001792, \"Revenue_Proportion\": 0.10034890659207926, \"Estimated_Attendees\": 40119, \"Month_Label\": \"Sep\"}, {\"Month\": 10, \"Source\": \"Food\", \"Revenue\": 2844126, \"Revenue_Proportion\": 0.14257472020574766, \"Estimated_Attendees\": 57001, \"Month_Label\": \"Oct\"}, {\"Month\": 11, \"Source\": \"Food\", \"Revenue\": 299296, \"Revenue_Proportion\": 0.015003569974993882, \"Estimated_Attendees\": 5998, \"Month_Label\": \"Nov\"}, {\"Month\": 12, \"Source\": \"Food\", \"Revenue\": 0, \"Revenue_Proportion\": 0.0, \"Estimated_Attendees\": 0, \"Month_Label\": \"Dec\"}]}}, {\"mode\": \"vega-lite\"});\n",
              "</script>"
            ],
            "text/plain": [
              "alt.LayerChart(...)"
            ]
          },
          "execution_count": 6,
          "metadata": {},
          "output_type": "execute_result"
        }
      ],
      "source": [
        "# Step 4: Create visualization\n",
        "alt.data_transformers.disable_max_rows()\n",
        "\n",
        "# Create month labels for better readability\n",
        "month_names = {1: 'Jan', 2: 'Feb', 3: 'Mar', 4: 'Apr', 5: 'May', 6: 'Jun', \n",
        "               7: 'Jul', 8: 'Aug', 9: 'Sep', 10: 'Oct', 11: 'Nov', 12: 'Dec'}\n",
        "food_revenue[\"Month_Label\"] = food_revenue[\"Month\"].map(month_names)\n",
        "\n",
        "# Create bar chart\n",
        "chart = alt.Chart(food_revenue).mark_bar(color='#3498db').encode(\n",
        "    x=alt.X('Month:O', title='Month', axis=alt.Axis(labelAngle=0)),\n",
        "    y=alt.Y('Estimated_Attendees:Q', title='Estimated Attendees'),\n",
        "    tooltip=[\n",
        "        alt.Tooltip('Month_Label:N', title='Month'),\n",
        "        alt.Tooltip('Estimated_Attendees:Q', title='Attendees', format=','),\n",
        "        alt.Tooltip('Revenue:Q', title='Food Revenue', format='$,.0f'),\n",
        "        alt.Tooltip('Revenue_Proportion:Q', title='Revenue %', format='.1%')\n",
        "    ]\n",
        ").properties(\n",
        "    title='Monthly Attendee Distribution (Based on Food Revenue Proportions)',\n",
        "    width=700,\n",
        "    height=400\n",
        ")\n",
        "\n",
        "# Add text labels on top of bars\n",
        "text = chart.mark_text(\n",
        "    align='center',\n",
        "    baseline='bottom',\n",
        "    dy=-5,\n",
        "    fontSize=11\n",
        ").encode(\n",
        "    text=alt.Text('Estimated_Attendees:Q', format=',')\n",
        ")\n",
        "\n",
        "final_chart = chart + text\n",
        "final_chart\n"
      ]
    },
    {
      "cell_type": "code",
      "execution_count": 7,
      "metadata": {},
      "outputs": [
        {
          "data": {
            "text/html": [
              "\n",
              "<style>\n",
              "  #altair-viz-7af15bcc2b0a4244b242fef1b6b62e64.vega-embed {\n",
              "    width: 100%;\n",
              "    display: flex;\n",
              "  }\n",
              "\n",
              "  #altair-viz-7af15bcc2b0a4244b242fef1b6b62e64.vega-embed details,\n",
              "  #altair-viz-7af15bcc2b0a4244b242fef1b6b62e64.vega-embed details summary {\n",
              "    position: relative;\n",
              "  }\n",
              "</style>\n",
              "<div id=\"altair-viz-7af15bcc2b0a4244b242fef1b6b62e64\"></div>\n",
              "<script type=\"text/javascript\">\n",
              "  var VEGA_DEBUG = (typeof VEGA_DEBUG == \"undefined\") ? {} : VEGA_DEBUG;\n",
              "  (function(spec, embedOpt){\n",
              "    let outputDiv = document.currentScript.previousElementSibling;\n",
              "    if (outputDiv.id !== \"altair-viz-7af15bcc2b0a4244b242fef1b6b62e64\") {\n",
              "      outputDiv = document.getElementById(\"altair-viz-7af15bcc2b0a4244b242fef1b6b62e64\");\n",
              "    }\n",
              "\n",
              "    const paths = {\n",
              "      \"vega\": \"https://cdn.jsdelivr.net/npm/vega@5?noext\",\n",
              "      \"vega-lib\": \"https://cdn.jsdelivr.net/npm/vega-lib?noext\",\n",
              "      \"vega-lite\": \"https://cdn.jsdelivr.net/npm/vega-lite@5.20.1?noext\",\n",
              "      \"vega-embed\": \"https://cdn.jsdelivr.net/npm/vega-embed@6?noext\",\n",
              "    };\n",
              "\n",
              "    function maybeLoadScript(lib, version) {\n",
              "      var key = `${lib.replace(\"-\", \"\")}_version`;\n",
              "      return (VEGA_DEBUG[key] == version) ?\n",
              "        Promise.resolve(paths[lib]) :\n",
              "        new Promise(function(resolve, reject) {\n",
              "          var s = document.createElement('script');\n",
              "          document.getElementsByTagName(\"head\")[0].appendChild(s);\n",
              "          s.async = true;\n",
              "          s.onload = () => {\n",
              "            VEGA_DEBUG[key] = version;\n",
              "            return resolve(paths[lib]);\n",
              "          };\n",
              "          s.onerror = () => reject(`Error loading script: ${paths[lib]}`);\n",
              "          s.src = paths[lib];\n",
              "        });\n",
              "    }\n",
              "\n",
              "    function showError(err) {\n",
              "      outputDiv.innerHTML = `<div class=\"error\" style=\"color:red;\">${err}</div>`;\n",
              "      throw err;\n",
              "    }\n",
              "\n",
              "    function displayChart(vegaEmbed) {\n",
              "      vegaEmbed(outputDiv, spec, embedOpt)\n",
              "        .catch(err => showError(`Javascript Error: ${err.message}<br>This usually means there's a typo in your chart specification. See the javascript console for the full traceback.`));\n",
              "    }\n",
              "\n",
              "    if(typeof define === \"function\" && define.amd) {\n",
              "      requirejs.config({paths});\n",
              "      let deps = [\"vega-embed\"];\n",
              "      require(deps, displayChart, err => showError(`Error loading script: ${err.message}`));\n",
              "    } else {\n",
              "      maybeLoadScript(\"vega\", \"5\")\n",
              "        .then(() => maybeLoadScript(\"vega-lite\", \"5.20.1\"))\n",
              "        .then(() => maybeLoadScript(\"vega-embed\", \"6\"))\n",
              "        .catch(showError)\n",
              "        .then(() => displayChart(vegaEmbed));\n",
              "    }\n",
              "  })({\"config\": {\"view\": {\"continuousWidth\": 300, \"continuousHeight\": 300}}, \"hconcat\": [{\"mark\": {\"type\": \"bar\", \"color\": \"#2ecc71\"}, \"encoding\": {\"tooltip\": [{\"field\": \"Month_Label\", \"title\": \"Month\", \"type\": \"nominal\"}, {\"field\": \"Revenue\", \"format\": \"$,.0f\", \"title\": \"Food Revenue\", \"type\": \"quantitative\"}], \"x\": {\"field\": \"Month\", \"title\": \"Month\", \"type\": \"ordinal\"}, \"y\": {\"axis\": {\"format\": \"$,.0f\"}, \"field\": \"Revenue\", \"title\": \"Food Revenue ($)\", \"type\": \"quantitative\"}}, \"height\": 300, \"title\": \"Monthly Food Revenue\", \"width\": 350}, {\"mark\": {\"type\": \"bar\", \"color\": \"#3498db\"}, \"encoding\": {\"tooltip\": [{\"field\": \"Month_Label\", \"title\": \"Month\", \"type\": \"nominal\"}, {\"field\": \"Estimated_Attendees\", \"format\": \",\", \"title\": \"Attendees\", \"type\": \"quantitative\"}], \"x\": {\"field\": \"Month\", \"title\": \"Month\", \"type\": \"ordinal\"}, \"y\": {\"axis\": {\"format\": \",\"}, \"field\": \"Estimated_Attendees\", \"title\": \"Estimated Attendees\", \"type\": \"quantitative\"}}, \"height\": 300, \"title\": \"Monthly Estimated Attendees\", \"width\": 350}], \"data\": {\"name\": \"data-9a5bf673b1cfa2c9f8a115718859922d\"}, \"$schema\": \"https://vega.github.io/schema/vega-lite/v5.20.1.json\", \"datasets\": {\"data-9a5bf673b1cfa2c9f8a115718859922d\": [{\"Month\": 1, \"Source\": \"Food\", \"Revenue\": 443982, \"Revenue_Proportion\": 0.022256612198752187, \"Estimated_Attendees\": 8898, \"Month_Label\": \"Jan\"}, {\"Month\": 2, \"Source\": \"Food\", \"Revenue\": 2777643, \"Revenue_Proportion\": 0.1392419581820403, \"Estimated_Attendees\": 55669, \"Month_Label\": \"Feb\"}, {\"Month\": 3, \"Source\": \"Food\", \"Revenue\": 2596206, \"Revenue_Proportion\": 0.13014660533551725, \"Estimated_Attendees\": 52032, \"Month_Label\": \"Mar\"}, {\"Month\": 4, \"Source\": \"Food\", \"Revenue\": 2227200, \"Revenue_Proportion\": 0.11164850532017259, \"Estimated_Attendees\": 44637, \"Month_Label\": \"Apr\"}, {\"Month\": 5, \"Source\": \"Food\", \"Revenue\": 1723476, \"Revenue_Proportion\": 0.08639705430818506, \"Estimated_Attendees\": 34541, \"Month_Label\": \"May\"}, {\"Month\": 6, \"Source\": \"Food\", \"Revenue\": 1208020, \"Revenue_Proportion\": 0.06055748356540719, \"Estimated_Attendees\": 24211, \"Month_Label\": \"Jun\"}, {\"Month\": 7, \"Source\": \"Food\", \"Revenue\": 1469214, \"Revenue_Proportion\": 0.07365101791283767, \"Estimated_Attendees\": 29446, \"Month_Label\": \"Jul\"}, {\"Month\": 8, \"Source\": \"Food\", \"Revenue\": 2357364, \"Revenue_Proportion\": 0.11817356640426695, \"Estimated_Attendees\": 47246, \"Month_Label\": \"Aug\"}, {\"Month\": 9, \"Source\": \"Food\", \"Revenue\": 2001792, \"Revenue_Proportion\": 0.10034890659207926, \"Estimated_Attendees\": 40119, \"Month_Label\": \"Sep\"}, {\"Month\": 10, \"Source\": \"Food\", \"Revenue\": 2844126, \"Revenue_Proportion\": 0.14257472020574766, \"Estimated_Attendees\": 57001, \"Month_Label\": \"Oct\"}, {\"Month\": 11, \"Source\": \"Food\", \"Revenue\": 299296, \"Revenue_Proportion\": 0.015003569974993882, \"Estimated_Attendees\": 5998, \"Month_Label\": \"Nov\"}, {\"Month\": 12, \"Source\": \"Food\", \"Revenue\": 0, \"Revenue_Proportion\": 0.0, \"Estimated_Attendees\": 0, \"Month_Label\": \"Dec\"}]}}, {\"mode\": \"vega-lite\"});\n",
              "</script>"
            ],
            "text/plain": [
              "alt.HConcatChart(...)"
            ]
          },
          "execution_count": 7,
          "metadata": {},
          "output_type": "execute_result"
        }
      ],
      "source": [
        "# Additional visualization: Side-by-side comparison of food revenue and attendees\n",
        "base = food_revenue.copy()\n",
        "\n",
        "# Create normalized values for comparison\n",
        "revenue_chart = alt.Chart(base).mark_bar(color='#2ecc71').encode(\n",
        "    x=alt.X('Month:O', title='Month'),\n",
        "    y=alt.Y('Revenue:Q', title='Food Revenue ($)', axis=alt.Axis(format='$,.0f')),\n",
        "    tooltip=[\n",
        "        alt.Tooltip('Month_Label:N', title='Month'),\n",
        "        alt.Tooltip('Revenue:Q', title='Food Revenue', format='$,.0f')\n",
        "    ]\n",
        ").properties(\n",
        "    title='Monthly Food Revenue',\n",
        "    width=350,\n",
        "    height=300\n",
        ")\n",
        "\n",
        "attendee_chart = alt.Chart(base).mark_bar(color='#3498db').encode(\n",
        "    x=alt.X('Month:O', title='Month'),\n",
        "    y=alt.Y('Estimated_Attendees:Q', title='Estimated Attendees', axis=alt.Axis(format=',')),\n",
        "    tooltip=[\n",
        "        alt.Tooltip('Month_Label:N', title='Month'),\n",
        "        alt.Tooltip('Estimated_Attendees:Q', title='Attendees', format=',')\n",
        "    ]\n",
        ").properties(\n",
        "    title='Monthly Estimated Attendees',\n",
        "    width=350,\n",
        "    height=300\n",
        ")\n",
        "\n",
        "comparison = alt.hconcat(revenue_chart, attendee_chart)\n",
        "comparison\n"
      ]
    },
    {
      "cell_type": "raw",
      "metadata": {
        "vscode": {
          "languageId": "raw"
        }
      },
      "source": [
        "Methodology Note:\n",
        "\n",
        "This analysis assumes that food/concession revenue is directly proportional to attendance. The total number of attendees (summed from the Games_Attended column in the fanbase engagement data) is distributed across months based on each month's share of total food revenue.\n",
        "\n",
        "For example:\n",
        "- If a month generated 20% of total food revenue, we estimate it had 20% of total attendees\n",
        "- This approach accounts for seasonal variations in attendance patterns\n",
        "- Peak months (typically mid-season) show higher both food revenue and estimated attendance\n"
      ]
    }
  ],
  "metadata": {
    "kernelspec": {
      "display_name": "Python 3",
      "language": "python",
      "name": "python3"
    },
    "language_info": {
      "codemirror_mode": {
        "name": "ipython",
        "version": 3
      },
      "file_extension": ".py",
      "mimetype": "text/x-python",
      "name": "python",
      "nbconvert_exporter": "python",
      "pygments_lexer": "ipython3",
      "version": "3.9.6"
    }
  },
  "nbformat": 4,
  "nbformat_minor": 2
}
